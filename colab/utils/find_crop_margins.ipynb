{
 "cells": [
  {
   "cell_type": "code",
   "execution_count": 1,
   "metadata": {},
   "outputs": [],
   "source": [
    "import os\n",
    "import numpy as np\n",
    "import nibabel as nib"
   ]
  },
  {
   "cell_type": "code",
   "execution_count": 2,
   "metadata": {},
   "outputs": [],
   "source": [
    "def return_square(img):\n",
    "\n",
    "    x_range = []\n",
    "    y_range = []\n",
    "    z_range = []\n",
    "\n",
    "    for i in range(img.shape[0]):\n",
    "        if img[i,:,:].any() != 0:\n",
    "            x_range.append(i)\n",
    "            break\n",
    "\n",
    "    for i in range(img.shape[0]-1,0,-1):\n",
    "        if img[i,:,:].any() != 0:\n",
    "            x_range.append(i)\n",
    "            break\n",
    "\n",
    "    for i in range(img.shape[1]):\n",
    "        if img[:,i,:].any() != 0:\n",
    "            y_range.append(i)\n",
    "            break\n",
    "\n",
    "    for i in range(img.shape[1]-1,0,-1):\n",
    "        if img[:,i,:].any() != 0:\n",
    "            y_range.append(i)\n",
    "            break\n",
    "\n",
    "    for i in range(img.shape[2]):\n",
    "        if img[:,:,i].any() != 0:\n",
    "            z_range.append(i)\n",
    "            break\n",
    "    \n",
    "    return x_range, y_range, z_range"
   ]
  },
  {
   "cell_type": "code",
   "execution_count": 9,
   "metadata": {},
   "outputs": [],
   "source": [
    "def return_crop_ranges(path_files):\n",
    "    images = os.listdir(path_files)\n",
    "    crop_x = [512,0]\n",
    "    crop_y = [512,0]\n",
    "    crop_z = 512\n",
    "    for image in images:\n",
    "        sample_image = path_files + image\n",
    "        try:\n",
    "            img = nib.load(sample_image)\n",
    "            img = np.array(img.dataobj)\n",
    "            x_range, y_range, z_range = return_square(img)\n",
    "            if x_range[0]<crop_x[0]:\n",
    "                crop_x[0]=x_range[0]\n",
    "            if x_range[1]>crop_x[1]:\n",
    "                crop_x[1]=x_range[1]\n",
    "            if y_range[0]<crop_y[0]:\n",
    "                crop_y[0]=y_range[0]\n",
    "            if y_range[1]>crop_y[1]:\n",
    "                crop_y[1]=y_range[1]\n",
    "            if z_range[0]<crop_z:\n",
    "                crop_z = z_range[0]\n",
    "                print(crop_z)\n",
    "        except:\n",
    "            print(\"Errors with image: \" + str(image))\n",
    "    print(crop_x)\n",
    "    print(crop_y)\n",
    "    print(crop_z)\n",
    "    return crop_x, crop_y, crop_z"
   ]
  },
  {
   "cell_type": "code",
   "execution_count": 10,
   "metadata": {},
   "outputs": [
    {
     "name": "stdout",
     "output_type": "stream",
     "text": "Errors with image: .DS_Store\nErrors with image: ._.DS_Store\nErrors with image: ._pancreas_004.nii.gz\n33\n26\n21\n7\n0\nErrors with image: pancreas_140.nii.gz\n"
    }
   ],
   "source": [
    "path_labels = '/media/jaume/Jaume Brossa/DL_postgraduate/final_project/data/Task07_Pancreas/labelsTr/'\n",
    "crop_x, crop_y, crop_z = return_crop_ranges(path_labels)"
   ]
  },
  {
   "cell_type": "code",
   "execution_count": 7,
   "metadata": {},
   "outputs": [
    {
     "data": {
      "text/plain": "[77, 361]"
     },
     "execution_count": 7,
     "metadata": {},
     "output_type": "execute_result"
    }
   ],
   "source": [
    "crop_x"
   ]
  },
  {
   "cell_type": "code",
   "execution_count": 8,
   "metadata": {},
   "outputs": [
    {
     "data": {
      "text/plain": "[163, 372]"
     },
     "execution_count": 8,
     "metadata": {},
     "output_type": "execute_result"
    }
   ],
   "source": [
    "crop_y"
   ]
  },
  {
   "cell_type": "code",
   "execution_count": 6,
   "metadata": {},
   "outputs": [
    {
     "data": {
      "text/plain": "0"
     },
     "execution_count": 6,
     "metadata": {},
     "output_type": "execute_result"
    }
   ],
   "source": [
    "crop_z"
   ]
  },
  {
   "cell_type": "markdown",
   "metadata": {},
   "source": [
    "X = [27,411] --- y = [113,422]"
   ]
  },
  {
   "cell_type": "code",
   "execution_count": null,
   "metadata": {},
   "outputs": [],
   "source": []
  }
 ],
 "metadata": {
  "kernelspec": {
   "display_name": "Python 3.7.6 64-bit ('DL_final_project': conda)",
   "language": "python",
   "name": "python37664bitdlfinalprojectconda9b9e96fb6e314da68cef268ae1b8c2c0"
  },
  "language_info": {
   "codemirror_mode": {
    "name": "ipython",
    "version": 3
   },
   "file_extension": ".py",
   "mimetype": "text/x-python",
   "name": "python",
   "nbconvert_exporter": "python",
   "pygments_lexer": "ipython3",
   "version": "3.7.6-final"
  }
 },
 "nbformat": 4,
 "nbformat_minor": 4
}