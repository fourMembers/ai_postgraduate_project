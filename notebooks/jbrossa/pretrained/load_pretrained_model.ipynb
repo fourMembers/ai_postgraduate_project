{
 "nbformat": 4,
 "nbformat_minor": 2,
 "metadata": {
  "language_info": {
   "name": "python",
   "codemirror_mode": {
    "name": "ipython",
    "version": 3
   },
   "version": "3.7.6-final"
  },
  "orig_nbformat": 2,
  "file_extension": ".py",
  "mimetype": "text/x-python",
  "name": "python",
  "npconvert_exporter": "python",
  "pygments_lexer": "ipython3",
  "version": 3,
  "kernelspec": {
   "name": "python37664bitdlfinalprojectconda9b9e96fb6e314da68cef268ae1b8c2c0",
   "display_name": "Python 3.7.6 64-bit ('DL_final_project': conda)"
  }
 },
 "cells": [
  {
   "cell_type": "code",
   "execution_count": 3,
   "metadata": {},
   "outputs": [],
   "source": [
    "import tensorflow as tf"
   ]
  },
  {
   "cell_type": "code",
   "execution_count": 1,
   "metadata": {},
   "outputs": [],
   "source": [
    "MODEL_DIR = 'asym_unet_balce_mom/'"
   ]
  },
  {
   "cell_type": "code",
   "execution_count": 2,
   "metadata": {},
   "outputs": [],
   "source": [
    "from tensorflow.python.keras import Sequential"
   ]
  },
  {
   "cell_type": "code",
   "execution_count": 4,
   "metadata": {},
   "outputs": [
    {
     "output_type": "stream",
     "name": "stdout",
     "text": "WARNING:tensorflow:Unable to create a python object for variable <tf.Variable 'global_step:0' shape=() dtype=int64_ref> because it is a reference variable. It may not be visible to training APIs. If this is a problem, consider rebuilding the SavedModel after running tf.compat.v1.enable_resource_variables().\nWARNING:tensorflow:Unable to create a python object for variable <tf.Variable 'conv3d/kernel:0' shape=(3, 3, 3, 1, 16) dtype=float32_ref> because it is a reference variable. It may not be visible to training APIs. If this is a problem, consider rebuilding the SavedModel after running tf.compat.v1.enable_resource_variables().\nWARNING:tensorflow:Unable to create a python object for variable <tf.Variable 'enc_unit_1_0/sub_unit0/batch_normalization/gamma:0' shape=(16,) dtype=float32_ref> because it is a reference variable. It may not be visible to training APIs. If this is a problem, consider rebuilding the SavedModel after running tf.compat.v1.enable_resource_variables().\nWARNING:tensorflow:Unable to create a python object for variable <tf.Variable 'enc_unit_1_0/sub_unit0/batch_normalization/beta:0' shape=(16,) dtype=float32_ref> because it is a reference variable. It may not be visible to training APIs. If this is a problem, consider rebuilding the SavedModel after running tf.compat.v1.enable_resource_variables().\nWARNING:tensorflow:Unable to create a python object for variable <tf.Variable 'enc_unit_1_0/sub_unit0/batch_normalization/moving_mean:0' shape=(16,) dtype=float32_ref> because it is a reference variable. It may not be visible to training APIs. If this is a problem, consider rebuilding the SavedModel after running tf.compat.v1.enable_resource_variables().\nWARNING:tensorflow:Unable to create a python object for variable <tf.Variable 'global_step:0' shape=() dtype=int64_ref> because it is a reference variable. It may not be visible to training APIs. If this is a problem, consider rebuilding the SavedModel after running tf.compat.v1.enable_resource_variables().\nWARNING:tensorflow:Unable to create a python object for variable <tf.Variable 'conv3d/kernel:0' shape=(3, 3, 3, 1, 16) dtype=float32_ref> because it is a reference variable. It may not be visible to training APIs. If this is a problem, consider rebuilding the SavedModel after running tf.compat.v1.enable_resource_variables().\nWARNING:tensorflow:Unable to create a python object for variable <tf.Variable 'enc_unit_1_0/sub_unit0/batch_normalization/gamma:0' shape=(16,) dtype=float32_ref> because it is a reference variable. It may not be visible to training APIs. If this is a problem, consider rebuilding the SavedModel after running tf.compat.v1.enable_resource_variables().\nWARNING:tensorflow:Unable to create a python object for variable <tf.Variable 'enc_unit_1_0/sub_unit0/batch_normalization/beta:0' shape=(16,) dtype=float32_ref> because it is a reference variable. It may not be visible to training APIs. If this is a problem, consider rebuilding the SavedModel after running tf.compat.v1.enable_resource_variables().\nWARNING:tensorflow:Unable to create a python object for variable <tf.Variable 'enc_unit_1_0/sub_unit0/batch_normalization/moving_mean:0' shape=(16,) dtype=float32_ref> because it is a reference variable. It may not be visible to training APIs. If this is a problem, consider rebuilding the SavedModel after running tf.compat.v1.enable_resource_variables().\nWARNING:tensorflow:Unable to create a python object for variable <tf.Variable 'global_step:0' shape=() dtype=int64_ref> because it is a reference variable. It may not be visible to training APIs. If this is a problem, consider rebuilding the SavedModel after running tf.compat.v1.enable_resource_variables().\nWARNING:tensorflow:Unable to create a python object for variable <tf.Variable 'conv3d/kernel:0' shape=(3, 3, 3, 1, 16) dtype=float32_ref> because it is a reference variable. It may not be visible to training APIs. If this is a problem, consider rebuilding the SavedModel after running tf.compat.v1.enable_resource_variables().\nWARNING:tensorflow:Unable to create a python object for variable <tf.Variable 'enc_unit_1_0/sub_unit0/batch_normalization/gamma:0' shape=(16,) dtype=float32_ref> because it is a reference variable. It may not be visible to training APIs. If this is a problem, consider rebuilding the SavedModel after running tf.compat.v1.enable_resource_variables().\nWARNING:tensorflow:Unable to create a python object for variable <tf.Variable 'enc_unit_1_0/sub_unit0/batch_normalization/beta:0' shape=(16,) dtype=float32_ref> because it is a reference variable. It may not be visible to training APIs. If this is a problem, consider rebuilding the SavedModel after running tf.compat.v1.enable_resource_variables().\nWARNING:tensorflow:Unable to create a python object for variable <tf.Variable 'enc_unit_1_0/sub_unit0/batch_normalization/moving_mean:0' shape=(16,) dtype=float32_ref> because it is a reference variable. It may not be visible to training APIs. If this is a problem, consider rebuilding the SavedModel after running tf.compat.v1.enable_resource_variables().\nWARNING:tensorflow:Unable to create a python object for variable <tf.Variable 'global_step:0' shape=() dtype=int64_ref> because it is a reference variable. It may not be visible to training APIs. If this is a problem, consider rebuilding the SavedModel after running tf.compat.v1.enable_resource_variables().\nWARNING:tensorflow:Unable to create a python object for variable <tf.Variable 'conv3d/kernel:0' shape=(3, 3, 3, 1, 16) dtype=float32_ref> because it is a reference variable. It may not be visible to training APIs. If this is a problem, consider rebuilding the SavedModel after running tf.compat.v1.enable_resource_variables().\nWARNING:tensorflow:Unable to create a python object for variable <tf.Variable 'enc_unit_1_0/sub_unit0/batch_normalization/gamma:0' shape=(16,) dtype=float32_ref> because it is a reference variable. It may not be visible to training APIs. If this is a problem, consider rebuilding the SavedModel after running tf.compat.v1.enable_resource_variables().\nWARNING:tensorflow:Unable to create a python object for variable <tf.Variable 'enc_unit_1_0/sub_unit0/batch_normalization/beta:0' shape=(16,) dtype=float32_ref> because it is a reference variable. It may not be visible to training APIs. If this is a problem, consider rebuilding the SavedModel after running tf.compat.v1.enable_resource_variables().\nWARNING:tensorflow:Unable to create a python object for variable <tf.Variable 'enc_unit_1_0/sub_unit0/batch_normalization/moving_mean:0' shape=(16,) dtype=float32_ref> because it is a reference variable. It may not be visible to training APIs. If this is a problem, consider rebuilding the SavedModel after running tf.compat.v1.enable_resource_variables().\n"
    }
   ],
   "source": [
    "best_model_file_pb = MODEL_DIR \n",
    "best_model_file_h5 = MODEL_DIR + \"saved_model_keras.h5\"\n",
    "loaded_model = tf.keras.models.load_model(best_model_file_pb)"
   ]
  },
  {
   "cell_type": "code",
   "execution_count": 29,
   "metadata": {},
   "outputs": [
    {
     "output_type": "error",
     "ename": "AttributeError",
     "evalue": "'AutoTrackable' object has no attribute '_is_graph_network'",
     "traceback": [
      "\u001b[0;31m---------------------------------------------------------------------------\u001b[0m",
      "\u001b[0;31mAttributeError\u001b[0m                            Traceback (most recent call last)",
      "\u001b[0;32m<ipython-input-29-ad936c83bf9b>\u001b[0m in \u001b[0;36m<module>\u001b[0;34m\u001b[0m\n\u001b[0;32m----> 1\u001b[0;31m \u001b[0mtf\u001b[0m\u001b[0;34m.\u001b[0m\u001b[0mkeras\u001b[0m\u001b[0;34m.\u001b[0m\u001b[0mmodels\u001b[0m\u001b[0;34m.\u001b[0m\u001b[0msave_model\u001b[0m\u001b[0;34m(\u001b[0m\u001b[0mloaded_model\u001b[0m\u001b[0;34m,\u001b[0m \u001b[0mbest_model_file_h5\u001b[0m\u001b[0;34m)\u001b[0m\u001b[0;34m\u001b[0m\u001b[0;34m\u001b[0m\u001b[0m\n\u001b[0m",
      "\u001b[0;32m~/miniconda3/envs/DL_final_project/lib/python3.7/site-packages/tensorflow_core/python/keras/saving/save.py\u001b[0m in \u001b[0;36msave_model\u001b[0;34m(model, filepath, overwrite, include_optimizer, save_format, signatures, options)\u001b[0m\n\u001b[1;32m    100\u001b[0m       os.path.splitext(filepath)[1] in _HDF5_EXTENSIONS):\n\u001b[1;32m    101\u001b[0m     \u001b[0;31m# TODO(b/130258301): add utility method for detecting model type.\u001b[0m\u001b[0;34m\u001b[0m\u001b[0;34m\u001b[0m\u001b[0;34m\u001b[0m\u001b[0m\n\u001b[0;32m--> 102\u001b[0;31m     if (not model._is_graph_network and  # pylint:disable=protected-access\n\u001b[0m\u001b[1;32m    103\u001b[0m         not isinstance(model, sequential.Sequential)):\n\u001b[1;32m    104\u001b[0m       raise NotImplementedError(\n",
      "\u001b[0;31mAttributeError\u001b[0m: 'AutoTrackable' object has no attribute '_is_graph_network'"
     ]
    }
   ],
   "source": [
    "tf.keras.models.save_model(loaded_model, best_model_file_h5)\n",
    ""
   ]
  },
  {
   "cell_type": "code",
   "execution_count": null,
   "metadata": {},
   "outputs": [],
   "source": [
    "loaded_model_from_h5 = tf.keras.models.load_model(best_model_file_h5)"
   ]
  }
 ]
}