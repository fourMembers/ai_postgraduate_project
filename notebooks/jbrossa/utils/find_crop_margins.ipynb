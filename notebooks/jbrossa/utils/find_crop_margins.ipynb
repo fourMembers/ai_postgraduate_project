{
 "cells": [
  {
   "cell_type": "code",
   "execution_count": 1,
   "metadata": {},
   "outputs": [],
   "source": [
    "import os\n",
    "import numpy as np\n",
    "import nibabel as nib"
   ]
  },
  {
   "cell_type": "code",
   "execution_count": 2,
   "metadata": {},
   "outputs": [],
   "source": [
    "def return_square(img):\n",
    "\n",
    "    x_range = []\n",
    "    y_range = []\n",
    "\n",
    "    for i in range(img.shape[0]):\n",
    "        if img[i,:,:].any() != 0:\n",
    "            x_range.append(i)\n",
    "            break\n",
    "\n",
    "    for i in range(img.shape[0]-1,0,-1):\n",
    "        if img[i,:,:].any() != 0:\n",
    "            x_range.append(i)\n",
    "            break\n",
    "\n",
    "    for i in range(img.shape[1]):\n",
    "        if img[:,i,:].any() != 0:\n",
    "            y_range.append(i)\n",
    "            break\n",
    "\n",
    "    for i in range(img.shape[1]-1,0,-1):\n",
    "        if img[:,i,:].any() != 0:\n",
    "            y_range.append(i)\n",
    "            break\n",
    "    \n",
    "    return x_range, y_range"
   ]
  },
  {
   "cell_type": "code",
   "execution_count": 3,
   "metadata": {},
   "outputs": [],
   "source": [
    "def return_crop_ranges(path_files):\n",
    "    images = os.listdir(path_files)\n",
    "    crop_x = [512,0]\n",
    "    crop_y = [512,0]\n",
    "    for image in images:\n",
    "        sample_image = path_files + image\n",
    "        try:\n",
    "            img = nib.load(sample_image)\n",
    "            img = np.array(img.dataobj)\n",
    "            x_range, y_range = return_square(img)\n",
    "            if x_range[0]<crop_x[0]:\n",
    "                crop_x[0]=x_range[0]\n",
    "            if x_range[1]>crop_x[1]:\n",
    "                crop_x[1]=x_range[1]\n",
    "            if y_range[0]<crop_y[0]:\n",
    "                crop_y[0]=y_range[0]\n",
    "            if y_range[1]>crop_y[1]:\n",
    "                crop_y[1]=y_range[1]\n",
    "        except:\n",
    "            print(\"Errors with image: \" + str(image))\n",
    "    print(crop_x)\n",
    "    print(crop_y)\n",
    "    return crop_x, crop_y"
   ]
  },
  {
   "cell_type": "code",
   "execution_count": 4,
   "metadata": {},
   "outputs": [
    {
     "name": "stdout",
     "output_type": "stream",
     "text": [
      "Errors with image: .DS_Store\n",
      "[77, 361]\n",
      "[163, 372]\n"
     ]
    }
   ],
   "source": [
    "path_labels = '/home/jupyter/ai_postgraduate_project/data/raw_dataset/labelsTr/'\n",
    "crop_x, crop_y = return_crop_ranges(path_labels)"
   ]
  },
  {
   "cell_type": "code",
   "execution_count": 5,
   "metadata": {},
   "outputs": [
    {
     "data": {
      "text/plain": [
       "[77, 361]"
      ]
     },
     "execution_count": 5,
     "metadata": {},
     "output_type": "execute_result"
    }
   ],
   "source": [
    "crop_x"
   ]
  },
  {
   "cell_type": "code",
   "execution_count": 6,
   "metadata": {},
   "outputs": [
    {
     "data": {
      "text/plain": [
       "[163, 372]"
      ]
     },
     "execution_count": 6,
     "metadata": {},
     "output_type": "execute_result"
    }
   ],
   "source": [
    "crop_y"
   ]
  },
  {
   "cell_type": "code",
   "execution_count": null,
   "metadata": {},
   "outputs": [],
   "source": []
  }
 ],
 "metadata": {
  "kernelspec": {
   "display_name": "Python 3",
   "language": "python",
   "name": "python3"
  },
  "language_info": {
   "codemirror_mode": {
    "name": "ipython",
    "version": 3
   },
   "file_extension": ".py",
   "mimetype": "text/x-python",
   "name": "python",
   "nbconvert_exporter": "python",
   "pygments_lexer": "ipython3",
   "version": "3.7.6"
  }
 },
 "nbformat": 4,
 "nbformat_minor": 4
}
