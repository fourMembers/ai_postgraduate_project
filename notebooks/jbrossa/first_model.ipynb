{
 "nbformat": 4,
 "nbformat_minor": 2,
 "metadata": {
  "language_info": {
   "name": "python",
   "codemirror_mode": {
    "name": "ipython",
    "version": 3
   },
   "version": "3.7.6-final"
  },
  "orig_nbformat": 2,
  "file_extension": ".py",
  "mimetype": "text/x-python",
  "name": "python",
  "npconvert_exporter": "python",
  "pygments_lexer": "ipython3",
  "version": 3,
  "kernelspec": {
   "name": "python37664bitdlfinalprojectconda9b9e96fb6e314da68cef268ae1b8c2c0",
   "display_name": "Python 3.7.6 64-bit ('DL_final_project': conda)"
  }
 },
 "cells": [
  {
   "cell_type": "code",
   "execution_count": 1,
   "metadata": {},
   "outputs": [],
   "source": [
    "import tensorflow.keras\n",
    "from unet import unet_model_3d\n"
   ]
  },
  {
   "cell_type": "code",
   "execution_count": 2,
   "metadata": {},
   "outputs": [],
   "source": [
    "input_shape = (1,20,20,20)\n",
    "model = unet_model_3d(input_shape = input_shape, n_labels = 1, activation_name = 'relu')\n",
    "#model.summary()"
   ]
  },
  {
   "cell_type": "code",
   "execution_count": 3,
   "metadata": {},
   "outputs": [
    {
     "name": "stdout",
     "output_type": "stream",
     "text": "Number of images for training: 22\nNumber of images for validation: 6\n"
    }
   ],
   "source": [
    "from data import get_train_and_validation_datasets\n",
    "\n",
    "batch_size = 1\n",
    "path_images = '/home/jaume/Documentos/DL_postgraduate/final_project/sample_data/resized_training/'\n",
    "path_labels = '/home/jaume/Documentos/DL_postgraduate/final_project/sample_data/resized_targets/'\n",
    "\n",
    "train_dataset, validation_dataset, validation_images = get_train_and_validation_datasets(0.2,path_images,path_labels,patch=True,patch_shape=(20,20,20))\n",
    "train_dataset = train_dataset.shuffle(10).batch(batch_size).take(30)\n",
    "validation_dataset = validation_dataset.batch(batch_size).take(30)\n"
   ]
  },
  {
   "cell_type": "code",
   "execution_count": 4,
   "metadata": {},
   "outputs": [
    {
     "name": "stdout",
     "output_type": "stream",
     "text": "(1, 1, 20, 20, 20)\n(1, 1, 20, 20, 20)\n"
    }
   ],
   "source": [
    "for image in train_dataset:\n",
    "    x,y = image\n",
    "    print(x.shape)\n",
    "    print(y.shape)\n",
    "    break"
   ]
  },
  {
   "cell_type": "code",
   "execution_count": 5,
   "metadata": {},
   "outputs": [
    {
     "name": "stdout",
     "output_type": "stream",
     "text": "WARNING:tensorflow:`write_grads` will be ignored in TensorFlow 2.0 for the `TensorBoard` Callback.\n"
    }
   ],
   "source": [
    "from tensorflow.keras.callbacks import ModelCheckpoint, EarlyStopping, TensorBoard, ReduceLROnPlateau\n",
    "from datetime import datetime\n",
    "\n",
    "time = datetime.now().strftime('%Y-%m-%d_%H-%M')\n",
    "\n",
    "model_checkpoint = ModelCheckpoint(filepath='models/best/' + time + '_model_weights.h5',\n",
    "                                   monitor='val_loss',\n",
    "                                   verbose=1,\n",
    "                                   mode='max',\n",
    "                                   save_best_only=True)\n",
    "\n",
    "reduce_lr_plateau = ReduceLROnPlateau(monitor='val_loss', \n",
    "                                      patience=10,\n",
    "                                      mode='max', \n",
    "                                      verbose=1)\n",
    "\n",
    "tensorboard_callback = TensorBoard(log_dir='runs/' + time,\n",
    "                                   histogram_freq=3,\n",
    "                                   write_grads=True)\n",
    "\n",
    "callbacks = [model_checkpoint,reduce_lr_plateau,tensorboard_callback]\n"
   ]
  },
  {
   "cell_type": "code",
   "execution_count": 6,
   "metadata": {},
   "outputs": [
    {
     "name": "stdout",
     "output_type": "stream",
     "text": "Epoch 1/6\n     30/Unknown - 34s 1s/step - loss: -0.2148 - dice_coefficient: 0.2148\nEpoch 00001: val_loss improved from -inf to -0.96782, saving model to models/best/2020-03-08_08-59_model_weights.h5\n30/30 [==============================] - 46s 2s/step - loss: -0.2148 - dice_coefficient: 0.2148 - val_loss: -0.9678 - val_dice_coefficient: 0.9678\nEpoch 2/6\n29/30 [============================>.] - ETA: 1s - loss: -1.0000 - dice_coefficient: 1.0000\nEpoch 00002: val_loss did not improve from -0.96782\n30/30 [==============================] - 41s 1s/step - loss: -1.0000 - dice_coefficient: 1.0000 - val_loss: -0.9684 - val_dice_coefficient: 0.9684\nEpoch 3/6\n 6/30 [=====>........................] - ETA: 34s - loss: -1.0000 - dice_coefficient: 1.0000WARNING:tensorflow:Can save best model only with val_loss available, skipping.\nWARNING:tensorflow:Reduce LR on plateau conditioned on metric `val_loss` which is not available. Available metrics are: loss,dice_coefficient,lr\n"
    }
   ],
   "source": [
    "epochs = 6\n",
    "model.fit(train_dataset,\n",
    "          epochs=epochs,\n",
    "          validation_data=validation_dataset,\n",
    "          callbacks = callbacks)"
   ]
  },
  {
   "cell_type": "code",
   "execution_count": null,
   "metadata": {},
   "outputs": [],
   "source": [
    "model.save_weights(\"models/final/\" + time + \"_model_weights.h5\")"
   ]
  },
  {
   "cell_type": "code",
   "execution_count": null,
   "metadata": {},
   "outputs": [],
   "source": []
  }
 ]
}