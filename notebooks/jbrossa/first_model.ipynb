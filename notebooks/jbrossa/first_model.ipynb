{
 "cells": [
  {
   "cell_type": "code",
   "execution_count": 1,
   "metadata": {},
   "outputs": [],
   "source": [
    "import tensorflow.keras\n",
    "from homemade_unet import unet_model_3d\n",
    ""
   ]
  },
  {
   "cell_type": "code",
   "execution_count": 2,
   "metadata": {},
   "outputs": [],
   "source": [
    "input_shape = (1,64,64,64)\n",
    "model = unet_model_3d(input_shape = input_shape, n_labels = 3)\n",
    "#model.summary()"
   ]
  },
  {
   "cell_type": "code",
   "execution_count": 3,
   "metadata": {},
   "outputs": [
    {
     "output_type": "stream",
     "name": "stdout",
     "text": "Subsampling with images: ['pancreas_028.nii.gz', 'pancreas_050.nii.gz', 'pancreas_019.nii.gz', 'pancreas_006.nii.gz', 'pancreas_051.nii.gz', 'pancreas_049.nii.gz', 'pancreas_029.nii.gz', 'pancreas_018.nii.gz', 'pancreas_021.nii.gz', 'pancreas_048.nii.gz']\nNumber of images for training: 8\nNumber of images for validation: 2\n"
    }
   ],
   "source": [
    "from data import get_balanced_train_and_validation_datasets\n",
    "\n",
    "batch_size = 1\n",
    "path_images = '/home/jaume/Documentos/DL_postgraduate/final_project/sample_data/imagesTr/'\n",
    "path_labels = '/home/jaume/Documentos/DL_postgraduate/final_project/sample_data/labelsTr/'\n",
    "\n",
    "train_dataset, validation_dataset, validation_images = get_balanced_train_and_validation_datasets(0.2,path_images,path_labels,patch_shape=(64,64,64),subsample=10,mask=True,repetitions=2,seed=111)\n",
    "train_dataset = train_dataset.batch(batch_size).prefetch(2)\n",
    "validation_dataset = validation_dataset.batch(batch_size).prefetch(2)\n",
    ""
   ]
  },
  {
   "cell_type": "code",
   "execution_count": null,
   "metadata": {},
   "outputs": [],
   "source": [
    "validation_images"
   ]
  },
  {
   "cell_type": "code",
   "execution_count": null,
   "metadata": {},
   "outputs": [],
   "source": [
    "for image in train_dataset:\n",
    "    x,y = image\n",
    "    print(x.shape)\n",
    "    print(y.shape)\n",
    "    break"
   ]
  },
  {
   "cell_type": "code",
   "execution_count": null,
   "metadata": {},
   "outputs": [],
   "source": [
    "for batch in train_dataset:\n",
    "    for i in range(batch[0].shape[0]):\n",
    "        x = batch[0][i,:,:,:,:]\n",
    "        y = batch[1][i,:,:,:,:]\n",
    "        print(x.shape)\n",
    "        print(y.shape)\n",
    "        break\n",
    "    break"
   ]
  },
  {
   "cell_type": "code",
   "execution_count": null,
   "metadata": {},
   "outputs": [],
   "source": [
    "import pylab as plt\n",
    "\n",
    "plt.imshow(x[0,0,:,:,50])"
   ]
  },
  {
   "cell_type": "code",
   "execution_count": null,
   "metadata": {},
   "outputs": [],
   "source": [
    "from tensorflow.keras.callbacks import ModelCheckpoint, EarlyStopping, TensorBoard, ReduceLROnPlateau\n",
    "from datetime import datetime\n",
    "from utils.callback_functions import ShowPredictionsCallback\n",
    "import tensorflow as tf\n",
    "\n",
    "time = datetime.now().strftime('%Y-%m-%d_%H-%M')\n",
    "\n",
    "file_writer = tf.summary.create_file_writer('runs/images')\n",
    "\n",
    "\n",
    "show_predictions = ShowPredictionsCallback(validation_images,path_images,path_labels,file_writer)\n",
    "\n",
    "model_checkpoint = ModelCheckpoint(filepath='models/best/' + time + '_model_weights.h5',\n",
    "                                   monitor='val_loss',\n",
    "                                   verbose=1,\n",
    "                                   save_best_only=True)\n",
    "\n",
    "reduce_lr_plateau = ReduceLROnPlateau(monitor='val_loss', \n",
    "                                      patience=10, \n",
    "                                      verbose=1)\n",
    "\n",
    "tensorboard_callback = TensorBoard(log_dir='runs/' + time,\n",
    "                                   write_grads=True)\n",
    "\n",
    "callbacks = [model_checkpoint,reduce_lr_plateau,tensorboard_callback]\n",
    "callbacks = [show_predictions]\n"
   ]
  },
  {
   "cell_type": "code",
   "execution_count": 4,
   "metadata": {},
   "outputs": [],
   "source": [
    "from tensorflow.keras.callbacks import ModelCheckpoint, EarlyStopping, TensorBoard, ReduceLROnPlateau\n",
    "from datetime import datetime\n",
    "from utils.callback_functions import ShowPredictionsCallback\n",
    "import tensorflow as tf\n",
    "\n",
    "file_writer = tf.summary.create_file_writer('runs/images')\n",
    "\n",
    "show_predictions = ShowPredictionsCallback(train_dataset,validation_dataset,file_writer,num_images=1)\n",
    "callbacks=[show_predictions]\n",
    ""
   ]
  },
  {
   "cell_type": "code",
   "execution_count": null,
   "metadata": {},
   "outputs": [],
   "source": [
    "import numpy as np\n",
    "import tensorflow as tf\n",
    "import nibabel as nib\n",
    "\n",
    "path_img = '/home/jaume/Documentos/DL_postgraduate/final_project/sample_data/labelsTr/' + validation_images[0]\n",
    "\n",
    "img = nib.load(path_img)\n",
    "\n",
    "img = np.array(img.dataobj)\n",
    "\n",
    "img = img[:,:,30]\n",
    "\n",
    "import pylab as plt\n",
    "\n",
    "#plt.imshow(img*512)\n",
    "\n",
    "\n",
    "img = np.expand_dims(img,axis=0)\n",
    "img = np.expand_dims(img,axis=-1)\n",
    "\n",
    "img = (255*(img/2)).astype(np.uint8)\n",
    "\n",
    "logdir = \"runs/images\"\n",
    "# Creates a file writer for the log directory.\n",
    "file_writer = tf.summary.create_file_writer(logdir)\n",
    "\n",
    "# Using the file writer, log the reshaped image.\n",
    "with file_writer.as_default():\n",
    "  tf.summary.image(\"Validation data\", tf.convert_to_tensor(img), step=0)\n",
    ""
   ]
  },
  {
   "cell_type": "code",
   "execution_count": 5,
   "metadata": {},
   "outputs": [
    {
     "output_type": "stream",
     "name": "stdout",
     "text": "      3/Unknown - 152s 51s/step - loss: 0.6364"
    }
   ],
   "source": [
    "epochs = 1\n",
    "model.fit(train_dataset,\n",
    "          epochs=epochs,\n",
    "          validation_data=validation_dataset,\n",
    "          callbacks = callbacks)"
   ]
  },
  {
   "cell_type": "code",
   "execution_count": null,
   "metadata": {},
   "outputs": [],
   "source": [
    "model.save_weights(\"models/final/\" + time + \"_model_weights.h5\")"
   ]
  },
  {
   "cell_type": "code",
   "execution_count": null,
   "metadata": {},
   "outputs": [],
   "source": []
  }
 ],
 "metadata": {
  "file_extension": ".py",
  "kernelspec": {
   "display_name": "Python 3.7.6 64-bit ('DL_final_project': conda)",
   "language": "python",
   "name": "python37664bitdlfinalprojectconda9b9e96fb6e314da68cef268ae1b8c2c0"
  },
  "language_info": {
   "codemirror_mode": {
    "name": "ipython",
    "version": 3
   },
   "file_extension": ".py",
   "mimetype": "text/x-python",
   "name": "python",
   "nbconvert_exporter": "python",
   "pygments_lexer": "ipython3",
   "version": "3.7.6-final"
  },
  "mimetype": "text/x-python",
  "name": "python",
  "npconvert_exporter": "python",
  "pygments_lexer": "ipython3",
  "version": 3
 },
 "nbformat": 4,
 "nbformat_minor": 4
}