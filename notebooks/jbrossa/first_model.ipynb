{
 "cells": [
  {
   "cell_type": "code",
   "execution_count": 5,
   "metadata": {},
   "outputs": [],
   "source": [
    "import tensorflow.keras\n",
    "from homemade_unet import unet_model_3d\n"
   ]
  },
  {
   "cell_type": "code",
   "execution_count": 6,
   "metadata": {},
   "outputs": [],
   "source": [
    "input_shape = (1,64,64,64)\n",
    "model = unet_model_3d(input_shape = input_shape, n_labels = 3)\n",
    "#model.summary()"
   ]
  },
  {
   "cell_type": "code",
   "execution_count": 1,
   "metadata": {},
   "outputs": [
    {
     "output_type": "stream",
     "name": "stdout",
     "text": "Subsampling with images: ['pancreas_028.nii.gz', 'pancreas_050.nii.gz', 'pancreas_019.nii.gz', 'pancreas_006.nii.gz', 'pancreas_051.nii.gz', 'pancreas_049.nii.gz', 'pancreas_029.nii.gz', 'pancreas_018.nii.gz', 'pancreas_021.nii.gz', 'pancreas_048.nii.gz', 'pancreas_043.nii.gz', 'pancreas_012.nii.gz', 'pancreas_032.nii.gz', 'pancreas_001.nii.gz', 'pancreas_025.nii.gz', 'pancreas_035.nii.gz', 'pancreas_016.nii.gz', 'pancreas_040.nii.gz', 'pancreas_037.nii.gz', 'pancreas_046.nii.gz']\nNumber of images for training: 16\nNumber of images for validation: 4\n"
    }
   ],
   "source": [
    "from data import get_balanced_train_and_validation_datasets\n",
    "\n",
    "batch_size = 1\n",
    "path_images = '/home/jaume/Documentos/DL_postgraduate/final_project/sample_data/imagesTr/'\n",
    "path_labels = '/home/jaume/Documentos/DL_postgraduate/final_project/sample_data/labelsTr/'\n",
    "\n",
    "train_dataset, validation_dataset, validation_images = get_balanced_train_and_validation_datasets(0.2,path_images,path_labels,patch_shape=(64,64,64),subsample=20,mask=True,repetitions=2)\n",
    "train_dataset = train_dataset.batch(batch_size).prefetch(2)\n",
    "validation_dataset = validation_dataset.batch(batch_size).prefetch(2)\n",
    ""
   ]
  },
  {
   "cell_type": "code",
   "execution_count": 2,
   "metadata": {},
   "outputs": [
    {
     "output_type": "execute_result",
     "data": {
      "text/plain": "['pancreas_050.nii.gz',\n 'pancreas_021.nii.gz',\n 'pancreas_019.nii.gz',\n 'pancreas_001.nii.gz']"
     },
     "metadata": {},
     "execution_count": 2
    }
   ],
   "source": [
    "validation_images"
   ]
  },
  {
   "cell_type": "code",
   "execution_count": 2,
   "metadata": {},
   "outputs": [
    {
     "output_type": "stream",
     "name": "stdout",
     "text": "Patches background: 57\nPatches target: 3\nStudying 6 patches for background and for target.\n(1, 1, 64, 64, 64)\n(1, 3, 64, 64, 64)\n"
    }
   ],
   "source": [
    "for image in train_dataset:\n",
    "    x,y = image\n",
    "    print(x.shape)\n",
    "    print(y.shape)\n",
    "    break"
   ]
  },
  {
   "cell_type": "code",
   "execution_count": 12,
   "metadata": {},
   "outputs": [
    {
     "data": {
      "text/plain": "<matplotlib.image.AxesImage at 0x7f523c196a50>"
     },
     "execution_count": 12,
     "metadata": {},
     "output_type": "execute_result"
    },
    {
     "data": {
      "image/png": "[encoded data removed]",
      "image/svg+xml": "<?xml version=\"1.0\" encoding=\"utf-8\" standalone=\"no\"?>\n<!DOCTYPE svg PUBLIC \"-//W3C//DTD SVG 1.1//EN\"\n  \"http://www.w3.org/Graphics/SVG/1.1/DTD/svg11.dtd\">\n<!-- Created with matplotlib (https://matplotlib.org/) -->\n<svg height=\"250.618594pt\" version=\"1.1\" viewBox=\"0 0 251.565 250.618594\" width=\"251.565pt\" xmlns=\"http://www.w3.org/2000/svg\" xmlns:xlink=\"http://www.w3.org/1999/xlink\">\n <defs>\n  <style type=\"text/css\">\n*{stroke-linecap:butt;stroke-linejoin:round;}\n  </style>\n </defs>\n <g id=\"figure_1\">\n  <g id=\"patch_1\">\n   <path d=\"M 0 250.618594 \nL 251.565 250.618594 \nL 251.565 0 \nL 0 0 \nz\n\" style=\"fill:none;\"/>\n  </g>\n  <g id=\"axes_1\">\n   <g id=\"patch_2\">\n    <path d=\"M 26.925 226.740469 \nL 244.365 226.740469 \nL 244.365 9.300469 \nL 26.925 9.300469 \nz\n\" style=\"fill:#ffffff;\"/>\n   </g>\n   <g clip-path=\"url(#p99f8c12449)\">\n    <image height=\"218\" id=\"image489474b8ee\" transform=\"scale(1 -1)translate(0 -218)\" width=\"218\" x=\"26.925\" xlink:href=\"data:image/png;base64,\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\" y=\"-8.740469\"/>\n   </g>\n   <g id=\"matplotlib.axis_1\">\n    <g id=\"xtick_1\">\n     <g id=\"line2d_1\">\n      <defs>\n       <path d=\"M 0 0 \nL 0 3.5 \n\" id=\"m6296d9fb94\" style=\"stroke:#000000;stroke-width:0.8;\"/>\n      </defs>\n      <g>\n       <use style=\"stroke:#000000;stroke-width:0.8;\" x=\"28.62375\" xlink:href=\"#m6296d9fb94\" y=\"226.740469\"/>\n      </g>\n     </g>\n     <g id=\"text_1\">\n      <!-- 0 -->\n      <defs>\n       <path d=\"M 31.78125 66.40625 \nQ 24.171875 66.40625 20.328125 58.90625 \nQ 16.5 51.421875 16.5 36.375 \nQ 16.5 21.390625 20.328125 13.890625 \nQ 24.171875 6.390625 31.78125 6.390625 \nQ 39.453125 6.390625 43.28125 13.890625 \nQ 47.125 21.390625 47.125 36.375 \nQ 47.125 51.421875 43.28125 58.90625 \nQ 39.453125 66.40625 31.78125 66.40625 \nz\nM 31.78125 74.21875 \nQ 44.046875 74.21875 50.515625 64.515625 \nQ 56.984375 54.828125 56.984375 36.375 \nQ 56.984375 17.96875 50.515625 8.265625 \nQ 44.046875 -1.421875 31.78125 -1.421875 \nQ 19.53125 -1.421875 13.0625 8.265625 \nQ 6.59375 17.96875 6.59375 36.375 \nQ 6.59375 54.828125 13.0625 64.515625 \nQ 19.53125 74.21875 31.78125 74.21875 \nz\n\" id=\"DejaVuSans-48\"/>\n      </defs>\n      <g transform=\"translate(25.4425 241.338906)scale(0.1 -0.1)\">\n       <use xlink:href=\"#DejaVuSans-48\"/>\n      </g>\n     </g>\n    </g>\n    <g id=\"xtick_2\">\n     <g id=\"line2d_2\">\n      <g>\n       <use style=\"stroke:#000000;stroke-width:0.8;\" x=\"62.59875\" xlink:href=\"#m6296d9fb94\" y=\"226.740469\"/>\n      </g>\n     </g>\n     <g id=\"text_2\">\n      <!-- 10 -->\n      <defs>\n       <path d=\"M 12.40625 8.296875 \nL 28.515625 8.296875 \nL 28.515625 63.921875 \nL 10.984375 60.40625 \nL 10.984375 69.390625 \nL 28.421875 72.90625 \nL 38.28125 72.90625 \nL 38.28125 8.296875 \nL 54.390625 8.296875 \nL 54.390625 0 \nL 12.40625 0 \nz\n\" id=\"DejaVuSans-49\"/>\n      </defs>\n      <g transform=\"translate(56.23625 241.338906)scale(0.1 -0.1)\">\n       <use xlink:href=\"#DejaVuSans-49\"/>\n       <use x=\"63.623047\" xlink:href=\"#DejaVuSans-48\"/>\n      </g>\n     </g>\n    </g>\n    <g id=\"xtick_3\">\n     <g id=\"line2d_3\">\n      <g>\n       <use style=\"stroke:#000000;stroke-width:0.8;\" x=\"96.57375\" xlink:href=\"#m6296d9fb94\" y=\"226.740469\"/>\n      </g>\n     </g>\n     <g id=\"text_3\">\n      <!-- 20 -->\n      <defs>\n       <path d=\"M 19.1875 8.296875 \nL 53.609375 8.296875 \nL 53.609375 0 \nL 7.328125 0 \nL 7.328125 8.296875 \nQ 12.9375 14.109375 22.625 23.890625 \nQ 32.328125 33.6875 34.8125 36.53125 \nQ 39.546875 41.84375 41.421875 45.53125 \nQ 43.3125 49.21875 43.3125 52.78125 \nQ 43.3125 58.59375 39.234375 62.25 \nQ 35.15625 65.921875 28.609375 65.921875 \nQ 23.96875 65.921875 18.8125 64.3125 \nQ 13.671875 62.703125 7.8125 59.421875 \nL 7.8125 69.390625 \nQ 13.765625 71.78125 18.9375 73 \nQ 24.125 74.21875 28.421875 74.21875 \nQ 39.75 74.21875 46.484375 68.546875 \nQ 53.21875 62.890625 53.21875 53.421875 \nQ 53.21875 48.921875 51.53125 44.890625 \nQ 49.859375 40.875 45.40625 35.40625 \nQ 44.1875 33.984375 37.640625 27.21875 \nQ 31.109375 20.453125 19.1875 8.296875 \nz\n\" id=\"DejaVuSans-50\"/>\n      </defs>\n      <g transform=\"translate(90.21125 241.338906)scale(0.1 -0.1)\">\n       <use xlink:href=\"#DejaVuSans-50\"/>\n       <use x=\"63.623047\" xlink:href=\"#DejaVuSans-48\"/>\n      </g>\n     </g>\n    </g>\n    <g id=\"xtick_4\">\n     <g id=\"line2d_4\">\n      <g>\n       <use style=\"stroke:#000000;stroke-width:0.8;\" x=\"130.54875\" xlink:href=\"#m6296d9fb94\" y=\"226.740469\"/>\n      </g>\n     </g>\n     <g id=\"text_4\">\n      <!-- 30 -->\n      <defs>\n       <path d=\"M 40.578125 39.3125 \nQ 47.65625 37.796875 51.625 33 \nQ 55.609375 28.21875 55.609375 21.1875 \nQ 55.609375 10.40625 48.1875 4.484375 \nQ 40.765625 -1.421875 27.09375 -1.421875 \nQ 22.515625 -1.421875 17.65625 -0.515625 \nQ 12.796875 0.390625 7.625 2.203125 \nL 7.625 11.71875 \nQ 11.71875 9.328125 16.59375 8.109375 \nQ 21.484375 6.890625 26.8125 6.890625 \nQ 36.078125 6.890625 40.9375 10.546875 \nQ 45.796875 14.203125 45.796875 21.1875 \nQ 45.796875 27.640625 41.28125 31.265625 \nQ 36.765625 34.90625 28.71875 34.90625 \nL 20.21875 34.90625 \nL 20.21875 43.015625 \nL 29.109375 43.015625 \nQ 36.375 43.015625 40.234375 45.921875 \nQ 44.09375 48.828125 44.09375 54.296875 \nQ 44.09375 59.90625 40.109375 62.90625 \nQ 36.140625 65.921875 28.71875 65.921875 \nQ 24.65625 65.921875 20.015625 65.03125 \nQ 15.375 64.15625 9.8125 62.3125 \nL 9.8125 71.09375 \nQ 15.4375 72.65625 20.34375 73.4375 \nQ 25.25 74.21875 29.59375 74.21875 \nQ 40.828125 74.21875 47.359375 69.109375 \nQ 53.90625 64.015625 53.90625 55.328125 \nQ 53.90625 49.265625 50.4375 45.09375 \nQ 46.96875 40.921875 40.578125 39.3125 \nz\n\" id=\"DejaVuSans-51\"/>\n      </defs>\n      <g transform=\"translate(124.18625 241.338906)scale(0.1 -0.1)\">\n       <use xlink:href=\"#DejaVuSans-51\"/>\n       <use x=\"63.623047\" xlink:href=\"#DejaVuSans-48\"/>\n      </g>\n     </g>\n    </g>\n    <g id=\"xtick_5\">\n     <g id=\"line2d_5\">\n      <g>\n       <use style=\"stroke:#000000;stroke-width:0.8;\" x=\"164.52375\" xlink:href=\"#m6296d9fb94\" y=\"226.740469\"/>\n      </g>\n     </g>\n     <g id=\"text_5\">\n      <!-- 40 -->\n      <defs>\n       <path d=\"M 37.796875 64.3125 \nL 12.890625 25.390625 \nL 37.796875 25.390625 \nz\nM 35.203125 72.90625 \nL 47.609375 72.90625 \nL 47.609375 25.390625 \nL 58.015625 25.390625 \nL 58.015625 17.1875 \nL 47.609375 17.1875 \nL 47.609375 0 \nL 37.796875 0 \nL 37.796875 17.1875 \nL 4.890625 17.1875 \nL 4.890625 26.703125 \nz\n\" id=\"DejaVuSans-52\"/>\n      </defs>\n      <g transform=\"translate(158.16125 241.338906)scale(0.1 -0.1)\">\n       <use xlink:href=\"#DejaVuSans-52\"/>\n       <use x=\"63.623047\" xlink:href=\"#DejaVuSans-48\"/>\n      </g>\n     </g>\n    </g>\n    <g id=\"xtick_6\">\n     <g id=\"line2d_6\">\n      <g>\n       <use style=\"stroke:#000000;stroke-width:0.8;\" x=\"198.49875\" xlink:href=\"#m6296d9fb94\" y=\"226.740469\"/>\n      </g>\n     </g>\n     <g id=\"text_6\">\n      <!-- 50 -->\n      <defs>\n       <path d=\"M 10.796875 72.90625 \nL 49.515625 72.90625 \nL 49.515625 64.59375 \nL 19.828125 64.59375 \nL 19.828125 46.734375 \nQ 21.96875 47.46875 24.109375 47.828125 \nQ 26.265625 48.1875 28.421875 48.1875 \nQ 40.625 48.1875 47.75 41.5 \nQ 54.890625 34.8125 54.890625 23.390625 \nQ 54.890625 11.625 47.5625 5.09375 \nQ 40.234375 -1.421875 26.90625 -1.421875 \nQ 22.3125 -1.421875 17.546875 -0.640625 \nQ 12.796875 0.140625 7.71875 1.703125 \nL 7.71875 11.625 \nQ 12.109375 9.234375 16.796875 8.0625 \nQ 21.484375 6.890625 26.703125 6.890625 \nQ 35.15625 6.890625 40.078125 11.328125 \nQ 45.015625 15.765625 45.015625 23.390625 \nQ 45.015625 31 40.078125 35.4375 \nQ 35.15625 39.890625 26.703125 39.890625 \nQ 22.75 39.890625 18.8125 39.015625 \nQ 14.890625 38.140625 10.796875 36.28125 \nz\n\" id=\"DejaVuSans-53\"/>\n      </defs>\n      <g transform=\"translate(192.13625 241.338906)scale(0.1 -0.1)\">\n       <use xlink:href=\"#DejaVuSans-53\"/>\n       <use x=\"63.623047\" xlink:href=\"#DejaVuSans-48\"/>\n      </g>\n     </g>\n    </g>\n    <g id=\"xtick_7\">\n     <g id=\"line2d_7\">\n      <g>\n       <use style=\"stroke:#000000;stroke-width:0.8;\" x=\"232.47375\" xlink:href=\"#m6296d9fb94\" y=\"226.740469\"/>\n      </g>\n     </g>\n     <g id=\"text_7\">\n      <!-- 60 -->\n      <defs>\n       <path d=\"M 33.015625 40.375 \nQ 26.375 40.375 22.484375 35.828125 \nQ 18.609375 31.296875 18.609375 23.390625 \nQ 18.609375 15.53125 22.484375 10.953125 \nQ 26.375 6.390625 33.015625 6.390625 \nQ 39.65625 6.390625 43.53125 10.953125 \nQ 47.40625 15.53125 47.40625 23.390625 \nQ 47.40625 31.296875 43.53125 35.828125 \nQ 39.65625 40.375 33.015625 40.375 \nz\nM 52.59375 71.296875 \nL 52.59375 62.3125 \nQ 48.875 64.0625 45.09375 64.984375 \nQ 41.3125 65.921875 37.59375 65.921875 \nQ 27.828125 65.921875 22.671875 59.328125 \nQ 17.53125 52.734375 16.796875 39.40625 \nQ 19.671875 43.65625 24.015625 45.921875 \nQ 28.375 48.1875 33.59375 48.1875 \nQ 44.578125 48.1875 50.953125 41.515625 \nQ 57.328125 34.859375 57.328125 23.390625 \nQ 57.328125 12.15625 50.6875 5.359375 \nQ 44.046875 -1.421875 33.015625 -1.421875 \nQ 20.359375 -1.421875 13.671875 8.265625 \nQ 6.984375 17.96875 6.984375 36.375 \nQ 6.984375 53.65625 15.1875 63.9375 \nQ 23.390625 74.21875 37.203125 74.21875 \nQ 40.921875 74.21875 44.703125 73.484375 \nQ 48.484375 72.75 52.59375 71.296875 \nz\n\" id=\"DejaVuSans-54\"/>\n      </defs>\n      <g transform=\"translate(226.11125 241.338906)scale(0.1 -0.1)\">\n       <use xlink:href=\"#DejaVuSans-54\"/>\n       <use x=\"63.623047\" xlink:href=\"#DejaVuSans-48\"/>\n      </g>\n     </g>\n    </g>\n   </g>\n   <g id=\"matplotlib.axis_2\">\n    <g id=\"ytick_1\">\n     <g id=\"line2d_8\">\n      <defs>\n       <path d=\"M 0 0 \nL -3.5 0 \n\" id=\"m28fd739156\" style=\"stroke:#000000;stroke-width:0.8;\"/>\n      </defs>\n      <g>\n       <use style=\"stroke:#000000;stroke-width:0.8;\" x=\"26.925\" xlink:href=\"#m28fd739156\" y=\"10.999219\"/>\n      </g>\n     </g>\n     <g id=\"text_8\">\n      <!-- 0 -->\n      <g transform=\"translate(13.5625 14.798437)scale(0.1 -0.1)\">\n       <use xlink:href=\"#DejaVuSans-48\"/>\n      </g>\n     </g>\n    </g>\n    <g id=\"ytick_2\">\n     <g id=\"line2d_9\">\n      <g>\n       <use style=\"stroke:#000000;stroke-width:0.8;\" x=\"26.925\" xlink:href=\"#m28fd739156\" y=\"44.974219\"/>\n      </g>\n     </g>\n     <g id=\"text_9\">\n      <!-- 10 -->\n      <g transform=\"translate(7.2 48.773437)scale(0.1 -0.1)\">\n       <use xlink:href=\"#DejaVuSans-49\"/>\n       <use x=\"63.623047\" xlink:href=\"#DejaVuSans-48\"/>\n      </g>\n     </g>\n    </g>\n    <g id=\"ytick_3\">\n     <g id=\"line2d_10\">\n      <g>\n       <use style=\"stroke:#000000;stroke-width:0.8;\" x=\"26.925\" xlink:href=\"#m28fd739156\" y=\"78.949219\"/>\n      </g>\n     </g>\n     <g id=\"text_10\">\n      <!-- 20 -->\n      <g transform=\"translate(7.2 82.748437)scale(0.1 -0.1)\">\n       <use xlink:href=\"#DejaVuSans-50\"/>\n       <use x=\"63.623047\" xlink:href=\"#DejaVuSans-48\"/>\n      </g>\n     </g>\n    </g>\n    <g id=\"ytick_4\">\n     <g id=\"line2d_11\">\n      <g>\n       <use style=\"stroke:#000000;stroke-width:0.8;\" x=\"26.925\" xlink:href=\"#m28fd739156\" y=\"112.924219\"/>\n      </g>\n     </g>\n     <g id=\"text_11\">\n      <!-- 30 -->\n      <g transform=\"translate(7.2 116.723437)scale(0.1 -0.1)\">\n       <use xlink:href=\"#DejaVuSans-51\"/>\n       <use x=\"63.623047\" xlink:href=\"#DejaVuSans-48\"/>\n      </g>\n     </g>\n    </g>\n    <g id=\"ytick_5\">\n     <g id=\"line2d_12\">\n      <g>\n       <use style=\"stroke:#000000;stroke-width:0.8;\" x=\"26.925\" xlink:href=\"#m28fd739156\" y=\"146.899219\"/>\n      </g>\n     </g>\n     <g id=\"text_12\">\n      <!-- 40 -->\n      <g transform=\"translate(7.2 150.698437)scale(0.1 -0.1)\">\n       <use xlink:href=\"#DejaVuSans-52\"/>\n       <use x=\"63.623047\" xlink:href=\"#DejaVuSans-48\"/>\n      </g>\n     </g>\n    </g>\n    <g id=\"ytick_6\">\n     <g id=\"line2d_13\">\n      <g>\n       <use style=\"stroke:#000000;stroke-width:0.8;\" x=\"26.925\" xlink:href=\"#m28fd739156\" y=\"180.874219\"/>\n      </g>\n     </g>\n     <g id=\"text_13\">\n      <!-- 50 -->\n      <g transform=\"translate(7.2 184.673437)scale(0.1 -0.1)\">\n       <use xlink:href=\"#DejaVuSans-53\"/>\n       <use x=\"63.623047\" xlink:href=\"#DejaVuSans-48\"/>\n      </g>\n     </g>\n    </g>\n    <g id=\"ytick_7\">\n     <g id=\"line2d_14\">\n      <g>\n       <use style=\"stroke:#000000;stroke-width:0.8;\" x=\"26.925\" xlink:href=\"#m28fd739156\" y=\"214.849219\"/>\n      </g>\n     </g>\n     <g id=\"text_14\">\n      <!-- 60 -->\n      <g transform=\"translate(7.2 218.648437)scale(0.1 -0.1)\">\n       <use xlink:href=\"#DejaVuSans-54\"/>\n       <use x=\"63.623047\" xlink:href=\"#DejaVuSans-48\"/>\n      </g>\n     </g>\n    </g>\n   </g>\n   <g id=\"patch_3\">\n    <path d=\"M 26.925 226.740469 \nL 26.925 9.300469 \n\" style=\"fill:none;stroke:#000000;stroke-linecap:square;stroke-linejoin:miter;stroke-width:0.8;\"/>\n   </g>\n   <g id=\"patch_4\">\n    <path d=\"M 244.365 226.740469 \nL 244.365 9.300469 \n\" style=\"fill:none;stroke:#000000;stroke-linecap:square;stroke-linejoin:miter;stroke-width:0.8;\"/>\n   </g>\n   <g id=\"patch_5\">\n    <path d=\"M 26.925 226.740469 \nL 244.365 226.740469 \n\" style=\"fill:none;stroke:#000000;stroke-linecap:square;stroke-linejoin:miter;stroke-width:0.8;\"/>\n   </g>\n   <g id=\"patch_6\">\n    <path d=\"M 26.925 9.300469 \nL 244.365 9.300469 \n\" style=\"fill:none;stroke:#000000;stroke-linecap:square;stroke-linejoin:miter;stroke-width:0.8;\"/>\n   </g>\n  </g>\n </g>\n <defs>\n  <clipPath id=\"p99f8c12449\">\n   <rect height=\"217.44\" width=\"217.44\" x=\"26.925\" y=\"9.300469\"/>\n  </clipPath>\n </defs>\n</svg>\n",
      "text/plain": "<Figure size 432x288 with 1 Axes>"
     },
     "metadata": {
      "needs_background": "light"
     },
     "output_type": "display_data"
    }
   ],
   "source": [
    "import pylab as plt\n",
    "\n",
    "plt.imshow(x[0,0,:,:,50])"
   ]
  },
  {
   "cell_type": "code",
   "execution_count": null,
   "metadata": {},
   "outputs": [],
   "source": [
    "from tensorflow.keras.callbacks import ModelCheckpoint, EarlyStopping, TensorBoard, ReduceLROnPlateau\n",
    "from datetime import datetime\n",
    "\n",
    "time = datetime.now().strftime('%Y-%m-%d_%H-%M')\n",
    "\n",
    "model_checkpoint = ModelCheckpoint(filepath='models/best/' + time + '_model_weights.h5',\n",
    "                                   monitor='val_loss',\n",
    "                                   verbose=1,\n",
    "                                   save_best_only=True)\n",
    "\n",
    "reduce_lr_plateau = ReduceLROnPlateau(monitor='val_loss', \n",
    "                                      patience=10, \n",
    "                                      verbose=1)\n",
    "\n",
    "tensorboard_callback = TensorBoard(log_dir='runs/' + time,\n",
    "                                   write_grads=True)\n",
    "\n",
    "callbacks = [model_checkpoint,reduce_lr_plateau,tensorboard_callback]\n"
   ]
  },
  {
   "cell_type": "code",
   "execution_count": null,
   "metadata": {},
   "outputs": [],
   "source": [
    "epochs = 80\n",
    "model.fit(train_dataset,\n",
    "          epochs=epochs,\n",
    "          validation_data=validation_dataset,\n",
    "          callbacks = callbacks)"
   ]
  },
  {
   "cell_type": "code",
   "execution_count": null,
   "metadata": {},
   "outputs": [],
   "source": [
    "model.save_weights(\"models/final/\" + time + \"_model_weights.h5\")"
   ]
  },
  {
   "cell_type": "code",
   "execution_count": null,
   "metadata": {},
   "outputs": [],
   "source": []
  }
 ],
 "metadata": {
  "file_extension": ".py",
  "kernelspec": {
   "display_name": "Python 3.7.6 64-bit ('DL_final_project': conda)",
   "language": "python",
   "name": "python37664bitdlfinalprojectconda9b9e96fb6e314da68cef268ae1b8c2c0"
  },
  "language_info": {
   "codemirror_mode": {
    "name": "ipython",
    "version": 3
   },
   "file_extension": ".py",
   "mimetype": "text/x-python",
   "name": "python",
   "nbconvert_exporter": "python",
   "pygments_lexer": "ipython3",
   "version": "3.7.6-final"
  },
  "mimetype": "text/x-python",
  "name": "python",
  "npconvert_exporter": "python",
  "pygments_lexer": "ipython3",
  "version": 3
 },
 "nbformat": 4,
 "nbformat_minor": 4
}