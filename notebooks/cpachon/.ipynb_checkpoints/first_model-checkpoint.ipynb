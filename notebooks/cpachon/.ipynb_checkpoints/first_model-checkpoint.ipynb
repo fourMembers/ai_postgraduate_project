{
 "cells": [
  {
   "cell_type": "code",
   "execution_count": 1,
   "metadata": {},
   "outputs": [],
   "source": [
    "import tensorflow.keras\n",
    "from homemade_unet import unet_model_3d\n"
   ]
  },
  {
   "cell_type": "code",
   "execution_count": 2,
   "metadata": {},
   "outputs": [
    {
     "name": "stdout",
     "output_type": "stream",
     "text": [
      "WARNING:tensorflow:From /home/jupyter/ai_postgraduate_project/notebooks/jbrossa/homemade_unet.py:134: multi_gpu_model (from tensorflow.python.keras.utils.multi_gpu_utils) is deprecated and will be removed after 2020-04-01.\n",
      "Instructions for updating:\n",
      "Use `tf.distribute.MirroredStrategy` instead.\n"
     ]
    }
   ],
   "source": [
    "input_shape = (1,64,64,64)\n",
    "model = unet_model_3d(input_shape = input_shape, n_labels = 3, gpus=2)\n",
    "#model.summary()"
   ]
  },
  {
   "cell_type": "code",
   "execution_count": 4,
   "metadata": {},
   "outputs": [
    {
     "name": "stdout",
     "output_type": "stream",
     "text": [
      "Number of images for training: 225\n",
      "Number of images for validation: 56\n"
     ]
    }
   ],
   "source": [
    "from data import get_train_and_validation_datasets\n",
    "\n",
    "batch_size = 8\n",
    "path_images = '/home/jupyter/ai_postgraduate_project/data/raw_dataset/imagesTr/'\n",
    "path_labels = '/home/jupyter/ai_postgraduate_project/data/raw_dataset/labelsTr/'\n",
    "\n",
    "train_dataset, validation_dataset, validation_images = get_train_and_validation_datasets(0.2,path_images,path_labels,patch=True,patch_shape=(64,64,64))\n",
    "train_dataset = train_dataset.shuffle(100).batch(batch_size).prefetch(2)\n",
    "validation_dataset = validation_dataset.batch(batch_size).prefetch(2)\n"
   ]
  },
  {
   "cell_type": "code",
   "execution_count": 5,
   "metadata": {},
   "outputs": [
    {
     "name": "stdout",
     "output_type": "stream",
     "text": [
      "(8, 1, 64, 64, 64)\n",
      "(8, 3, 64, 64, 64)\n"
     ]
    }
   ],
   "source": [
    "for image in train_dataset:\n",
    "    x,y = image\n",
    "    print(x.shape)\n",
    "    print(y.shape)\n",
    "    break"
   ]
  },
  {
   "cell_type": "code",
   "execution_count": 6,
   "metadata": {},
   "outputs": [
    {
     "name": "stdout",
     "output_type": "stream",
     "text": [
      "WARNING:tensorflow:`write_grads` will be ignored in TensorFlow 2.0 for the `TensorBoard` Callback.\n"
     ]
    }
   ],
   "source": [
    "from tensorflow.keras.callbacks import ModelCheckpoint, EarlyStopping, TensorBoard, ReduceLROnPlateau\n",
    "from datetime import datetime\n",
    "\n",
    "time = datetime.now().strftime('%Y-%m-%d_%H-%M')\n",
    "\n",
    "model_checkpoint = ModelCheckpoint(filepath='models/best/' + time + '_model_weights.h5',\n",
    "                                   monitor='val_loss',\n",
    "                                   verbose=1,\n",
    "                                   save_best_only=True)\n",
    "\n",
    "reduce_lr_plateau = ReduceLROnPlateau(monitor='val_loss', \n",
    "                                      patience=10, \n",
    "                                      verbose=1)\n",
    "\n",
    "tensorboard_callback = TensorBoard(log_dir='runs/' + time,\n",
    "                                   write_grads=True)\n",
    "\n",
    "callbacks = [model_checkpoint,reduce_lr_plateau,tensorboard_callback]\n"
   ]
  },
  {
   "cell_type": "code",
   "execution_count": null,
   "metadata": {},
   "outputs": [
    {
     "name": "stdout",
     "output_type": "stream",
     "text": [
      "Epoch 1/80\n",
      "    164/Unknown - 692s 4s/step - loss: -1.6063 - dice_coefficient: 1.6063"
     ]
    }
   ],
   "source": [
    "epochs = 80\n",
    "model.fit(train_dataset,\n",
    "          epochs=epochs,\n",
    "          validation_data=validation_dataset,\n",
    "          callbacks = callbacks)"
   ]
  },
  {
   "cell_type": "code",
   "execution_count": null,
   "metadata": {},
   "outputs": [],
   "source": [
    "model.save_weights(\"models/final/\" + time + \"_model_weights.h5\")"
   ]
  },
  {
   "cell_type": "code",
   "execution_count": null,
   "metadata": {},
   "outputs": [],
   "source": []
  }
 ],
 "metadata": {
  "file_extension": ".py",
  "kernelspec": {
   "display_name": "Python 3",
   "language": "python",
   "name": "python3"
  },
  "language_info": {
   "codemirror_mode": {
    "name": "ipython",
    "version": 3
   },
   "file_extension": ".py",
   "mimetype": "text/x-python",
   "name": "python",
   "nbconvert_exporter": "python",
   "pygments_lexer": "ipython3",
   "version": "3.7.6"
  },
  "mimetype": "text/x-python",
  "name": "python",
  "npconvert_exporter": "python",
  "pygments_lexer": "ipython3",
  "version": 3
 },
 "nbformat": 4,
 "nbformat_minor": 4
}
