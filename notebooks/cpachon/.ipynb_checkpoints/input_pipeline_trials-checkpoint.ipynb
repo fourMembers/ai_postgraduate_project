{
 "nbformat": 4,
 "nbformat_minor": 2,
 "metadata": {
  "language_info": {
   "name": "python",
   "codemirror_mode": {
    "name": "ipython",
    "version": 3
   },
   "version": "3.7.6-final"
  },
  "orig_nbformat": 2,
  "file_extension": ".py",
  "mimetype": "text/x-python",
  "name": "python",
  "npconvert_exporter": "python",
  "pygments_lexer": "ipython3",
  "version": 3,
  "kernelspec": {
   "name": "python37664bitdlfinalprojectconda9b9e96fb6e314da68cef268ae1b8c2c0",
   "display_name": "Python 3.7.6 64-bit ('DL_final_project': conda)"
  }
 },
 "cells": [
  {
   "cell_type": "code",
   "execution_count": 13,
   "metadata": {},
   "outputs": [],
   "source": [
    "import os\n",
    "import numpy as np\n",
    "from nibabel.testing import data_path\n",
    "from nilearn import plotting\n",
    "import nibabel as nib\n",
    "import tensorflow as tf\n",
    "import tensorflow.keras as keras"
   ]
  },
  {
   "cell_type": "code",
   "execution_count": 2,
   "metadata": {},
   "outputs": [],
   "source": [
    "path_picture = '/home/jaume/Documentos/DL_postgraduate/final_project/sample_data/resized_training/pancreas_001.nii.gz'\n",
    "\n",
    "example = os.path.join(data_path,path_picture)\n",
    "img = nib.load(example)"
   ]
  },
  {
   "cell_type": "code",
   "execution_count": 3,
   "metadata": {},
   "outputs": [],
   "source": [
    "a = np.array(img.dataobj)"
   ]
  },
  {
   "cell_type": "code",
   "execution_count": 4,
   "metadata": {},
   "outputs": [
    {
     "data": {
      "text/plain": "['pancreas_028.nii.gz',\n 'pancreas_050.nii.gz',\n 'pancreas_019.nii.gz',\n 'pancreas_006.nii.gz',\n 'pancreas_051.nii.gz',\n 'pancreas_049.nii.gz',\n 'pancreas_029.nii.gz',\n 'pancreas_018.nii.gz',\n 'pancreas_021.nii.gz',\n 'pancreas_048.nii.gz',\n 'pancreas_043.nii.gz',\n 'pancreas_012.nii.gz',\n 'pancreas_032.nii.gz',\n 'pancreas_001.nii.gz',\n 'pancreas_025.nii.gz',\n 'pancreas_035.nii.gz',\n 'pancreas_016.nii.gz',\n 'pancreas_040.nii.gz',\n 'pancreas_037.nii.gz',\n 'pancreas_046.nii.gz',\n 'pancreas_004.nii.gz',\n 'pancreas_024.nii.gz',\n 'pancreas_010.nii.gz',\n 'pancreas_042.nii.gz',\n 'pancreas_015.nii.gz',\n 'pancreas_045.nii.gz',\n 'pancreas_005.nii.gz',\n 'pancreas_041.nii.gz']"
     },
     "execution_count": 4,
     "metadata": {},
     "output_type": "execute_result"
    }
   ],
   "source": [
    "training_path = '/home/jaume/Documentos/DL_postgraduate/final_project/sample_data/resized_training/'\n",
    "list_images = os.listdir(training_path)\n",
    "list_images"
   ]
  },
  {
   "cell_type": "code",
   "execution_count": 5,
   "metadata": {},
   "outputs": [],
   "source": [
    "def train_iterator(stop,training_path,list_images):\n",
    "    i=0\n",
    "    while i<stop:\n",
    "        path_picture = str(training_path) + str(list_images[i])\n",
    "        path_picture = path_picture.replace('b','')\n",
    "        path_picture = path_picture.replace(\"'\",\"\")\n",
    "        img = nib.load(path_picture)\n",
    "        img = np.array(img.dataobj)\n",
    "        print(\"Image \" + str(list_images[i]).split('_')[1].split('.')[0])\n",
    "        yield img\n",
    "        i+=1"
   ]
  },
  {
   "cell_type": "code",
   "execution_count": 6,
   "metadata": {},
   "outputs": [
    {
     "name": "stdout",
     "output_type": "stream",
     "text": "Image 028\n<class 'numpy.int64'>\nImage 050\n<class 'numpy.int64'>\nImage 019\n<class 'numpy.int64'>\n"
    }
   ],
   "source": [
    "for image in train_iterator(3,training_path,list_images):\n",
    "    print(type(image[0][0][0]))\n"
   ]
  },
  {
   "cell_type": "code",
   "execution_count": 11,
   "metadata": {},
   "outputs": [],
   "source": [
    "training_dataset = tf.data.Dataset.from_generator(train_iterator, args=[2,training_path,list_images], output_shapes=(512,512,95), output_types=tf.float32)"
   ]
  },
  {
   "cell_type": "code",
   "execution_count": 12,
   "metadata": {},
   "outputs": [
    {
     "name": "stdout",
     "output_type": "stream",
     "text": "Image 028\nImage 050\nImage 028\nImage 050\nImage 028\nImage 050\nnext_batch\nImage 028\nImage 050\nImage 028\nImage 050\nImage 028\nImage 050\nnext_batch\n"
    }
   ],
   "source": [
    "for train_batch in training_dataset.repeat().batch(6).take(2):\n",
    "  print(\"next_batch\")"
   ]
  },
  {
   "cell_type": "code",
   "execution_count": null,
   "metadata": {},
   "outputs": [],
   "source": []
  },
  {
   "cell_type": "code",
   "execution_count": null,
   "metadata": {},
   "outputs": [],
   "source": []
  },
  {
   "cell_type": "code",
   "execution_count": null,
   "metadata": {},
   "outputs": [],
   "source": []
  },
  {
   "cell_type": "code",
   "execution_count": null,
   "metadata": {},
   "outputs": [],
   "source": []
  }
 ]
}