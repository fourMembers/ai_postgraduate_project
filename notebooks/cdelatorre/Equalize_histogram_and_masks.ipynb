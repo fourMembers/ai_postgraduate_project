{
 "cells": [
  {
   "cell_type": "code",
   "execution_count": null,
   "metadata": {},
   "outputs": [],
   "source": [
    "import nibabel as nib\n",
    "import numpy as np\n",
    "import matplotlib.pyplot as plt\n",
    "from skimage import morphology\n",
    "from scipy import ndimage\n",
    "import transform_HU_functions"
   ]
  },
  {
   "cell_type": "code",
   "execution_count": null,
   "metadata": {},
   "outputs": [],
   "source": [
    "# PATHS\n",
    "path_image = 'C:\\\\Users\\\\crist\\\\aidlp_project\\\\Task07_Pancreas\\\\sample_data\\\\resized_training\\\\pancreas_001.nii.gz'\n",
    "path_label = 'C:\\\\Users\\\\crist\\\\aidlp_project\\\\Task07_Pancreas\\\\sample_data\\\\resized_targets\\\\pancreas_001.nii.gz'"
   ]
  },
  {
   "cell_type": "code",
   "execution_count": null,
   "metadata": {},
   "outputs": [],
   "source": [
    "# LOAD LABEL\n",
    "label = nib.load(path_label)\n",
    "label_array = img_label.get_fdata()\n",
    "label_array.shape"
   ]
  },
  {
   "cell_type": "code",
   "execution_count": null,
   "metadata": {},
   "outputs": [],
   "source": [
    "# LOAD IMAGE\n",
    "image = nib.load(path_image)\n",
    "image_array = image.get_fdata()\n",
    "image_header = image.header\n",
    "image_array.shape"
   ]
  },
  {
   "cell_type": "code",
   "execution_count": null,
   "metadata": {},
   "outputs": [],
   "source": [
    "windowing(image_name,img_min=-100, img_max=250)"
   ]
  }
 ],
 "metadata": {
  "kernelspec": {
   "display_name": "Python 3.7.4 64-bit ('base': conda)",
   "language": "python",
   "name": "python37464bitbasecondae7e6aea0aa8444daa889279d37acbfaa"
  },
  "language_info": {
   "codemirror_mode": {
    "name": "ipython",
    "version": 3
   },
   "file_extension": ".py",
   "mimetype": "text/x-python",
   "name": "python",
   "nbconvert_exporter": "python",
   "pygments_lexer": "ipython3",
   "version": "3.7.4"
  }
 },
 "nbformat": 4,
 "nbformat_minor": 2
}
